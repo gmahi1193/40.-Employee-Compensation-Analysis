{
 "cells": [
  {
   "cell_type": "markdown",
   "metadata": {},
   "source": [
    "#### Import the libraries"
   ]
  },
  {
   "cell_type": "code",
   "execution_count": 16,
   "metadata": {},
   "outputs": [],
   "source": [
    "import pandas as pd\n",
    "import numpy as np\n",
    "from numpy import array\n",
    "import seaborn as sns\n",
    "from sklearn.preprocessing import LabelEncoder\n",
    "from scipy.stats import norm, skew\n",
    "import matplotlib.pyplot as plt\n",
    "import warnings\n",
    "from sklearn.model_selection import train_test_split\n",
    "from sklearn.linear_model import LinearRegression, Lasso, Ridge\n",
    "from sklearn.metrics import r2_score \n",
    "from sklearn import preprocessing\n",
    "from sklearn.preprocessing import OneHotEncoder\n",
    "warnings.filterwarnings(\"ignore\")\n",
    "from sklearn.preprocessing import PolynomialFeatures\n",
    "from sklearn.pipeline import make_pipeline"
   ]
  },
  {
   "cell_type": "markdown",
   "metadata": {},
   "source": [
    "### Define the following functions as per the description, so that they can be called later to perform the tasks."
   ]
  },
  {
   "cell_type": "code",
   "execution_count": 17,
   "metadata": {},
   "outputs": [],
   "source": [
    "# to treat missing values\n",
    "\n",
    "def treat_null_values(df, method):\n",
    "    \"\"\"Treats the missing values in the dataframe.\n",
    "    \n",
    "    This function accepts a dataframe and the method to treat the missing value.\n",
    "    Depending on the method passed, impute/drop the missing values.\n",
    "        \n",
    "    Keyword arguments:\n",
    "    df -- pandas dataframe for which we want to treat the missing values\n",
    "    method -- method to treat the missing values\n",
    "    \"\"\"\n",
    "    \n",
    "    if method == 'drop':\n",
    "        df.dropna(inplace = True)\n",
    "    elif method == 'mean':\n",
    "        df.fillna(round(df.mean(),1), inplace = True)\n",
    "    elif method == 'median':\n",
    "        df.fillna(df.median(), inplace = True)\n",
    "    elif method == 'mode':\n",
    "        df.fillna(df.mode()[0], inplace = True)\n",
    "    else:\n",
    "        df.fillna('NA', inplace = True)\n"
   ]
  },
  {
   "cell_type": "code",
   "execution_count": 18,
   "metadata": {},
   "outputs": [],
   "source": [
    "\n",
    "# to seperate the numerical and categorical columns\n",
    "\n",
    "def num_and_cat_columns(df):\n",
    "    \"\"\"Return seperate list of numerical & categorical columns.\n",
    "     \n",
    "    num_cols\n",
    "    This function accepts a dataframe and returns two lists,\n",
    "    one containing the names of numerical columns(num_cols) and the other categorical columns(cat_cols).\n",
    "        \n",
    "    Keyword arguments:\n",
    "    df -- pandas dataframe for which we want the list of columns\n",
    "    \n",
    "    Returns:\n",
    "    num_cols -- list of numerical columns\n",
    "    cat_cols -- list of categorical columns\n",
    "    \"\"\"\n",
    "    \n",
    "    num_cols = list(df.select_dtypes(include = 'number'))\n",
    "    cat_cols = list(df.select_dtypes(exclude = 'number'))\n",
    "    \n",
    "    return num_cols, cat_cols"
   ]
  },
  {
   "cell_type": "code",
   "execution_count": 19,
   "metadata": {},
   "outputs": [],
   "source": [
    "# to encode the categorical column so as to convert them to numeric.\n",
    "    \n",
    "def encode_category(df, enc, col, method):\n",
    "    \"\"\"Encodes the categorical columns of the dataframe.\n",
    "    \n",
    "    This function accepts a dataframe and columns to be encoded along with the method to be used for encoding.\n",
    "        \n",
    "    Keyword arguments:\n",
    "    df -- pandas dataframe for which we want to encode the columns -- this dataframe would be transformed\n",
    "    enc -- the encoder - fitted on the train data\n",
    "    col -- list of columns that is to be encoded\n",
    "    method -- method to be used while encoding\n",
    "    \n",
    "    Returns:\n",
    "    df1 -- the encoded dataframe\n",
    "    \"\"\"\n",
    "    \n",
    "    if method == 'label':\n",
    "        # lb = LabelEncoder()\n",
    "        # lb.fit(df[col])\n",
    "        df[col] = enc.transform(df[col].astype(str))\n",
    "    \n",
    "    elif method == 'onehot':\n",
    "        # ohe = OneHotEncoder(handle_unknown='ignore')\n",
    "        # ohe.fit(df[[col]])\n",
    "        tempdf = enc.transform(df[[col]]).toarray()\n",
    "        newdf = pd.DataFrame(tempdf, columns = np.array(ohe.categories_).ravel())\n",
    "        df = pd.concat([df, newdf], axis=1)\n",
    "        df.drop(columns=[col], inplace = True)\n",
    "        \n",
    "    return df"
   ]
  },
  {
   "cell_type": "code",
   "execution_count": 20,
   "metadata": {},
   "outputs": [],
   "source": [
    "# to clean the dollar sign from the currency column & convert it to float.\n",
    "    \n",
    "def clean_dollar(df, col):\n",
    "    \"\"\"Removes \"$\" sign from a column & converts it to float.\n",
    "    \n",
    "    This function accepts a dataframe and columns with $ sign to be converted to float.\n",
    "        \n",
    "    Keyword arguments:\n",
    "    df -- pandas dataframe for which we want to encode the columns\n",
    "    col -- list of columns that is to be converted\n",
    "    \n",
    "    Returns:\n",
    "    df -- the converted dataframe\n",
    "    \"\"\"\n",
    "    df[col] = df[col].str.replace('$','').astype(float)\n",
    "    return df\n"
   ]
  },
  {
   "cell_type": "code",
   "execution_count": 21,
   "metadata": {},
   "outputs": [],
   "source": [
    "# to visualize distributions of the column(s) by plotting them.\n",
    "    \n",
    "def plot_distribution(kind_, df, *cols):\n",
    "    \"\"\"Plot distribution of the column(s).\n",
    "    \n",
    "    This function will plot a chart of the passed column as the 'kind' specified in kind_.\n",
    "    You can pass multiple columns to this function.\n",
    "        \n",
    "    Keyword arguments:\n",
    "    knid_ -- 'kind' of chart that will be plotted\n",
    "    df -- pandas dataframe which has the data\n",
    "    *col -- list of all the features for which we want to plot the distribution\n",
    "    \"\"\"\n",
    "    if kind_ == 'box':\n",
    "        \n",
    "        if len(col) == 1:\n",
    "            boxplot = df.boxplot(column = col[0], rot = 90)\n",
    "            plt.show()\n",
    "        \n",
    "        elif len(col) > 1:\n",
    "            for c in col[1:]:\n",
    "                boxplot = df.boxplot(column = col[0], by = c, rot = 90)\n",
    "            plt.show()\n",
    "        \n",
    "    else:\n",
    "        if len(col) == 0:\n",
    "            df.plot(kind = kind_)\n",
    "            plt.show()\n",
    "        \n",
    "        elif len(col) == 1:\n",
    "            df[col[0]].plot(kind = kind_)\n",
    "            plt.xlabel(col[0])\n",
    "            plt.show()\n",
    "        \n",
    "        elif len(col) == 2:\n",
    "            df.plot(x = col[0], y = col[1], kind = kind_)\n",
    "            plt.xlabel(col[0])\n",
    "            plt.ylabel(col[1])\n",
    "            plt.show()\n",
    "        \n",
    "        else:\n",
    "            print(\"Unable to plot a chart with given parameters.\")\n",
    "    "
   ]
  },
  {
   "cell_type": "code",
   "execution_count": 22,
   "metadata": {},
   "outputs": [],
   "source": [
    "# to apply transformation to any column\n",
    "\n",
    "def transform_column(df, col, transformation):\n",
    "    \"\"\"Apply transformation to the column(s).\n",
    "    \n",
    "    This function will apply the passed transformation to the given dataframe & columns.\n",
    "    You can pass multiple columns to this function.\n",
    "        \n",
    "    Keyword arguments:\n",
    "    df -- pandas dataframe which has the data\n",
    "    col -- list of all the features for which we want to apply the transformation\n",
    "    transformation -- the transformation we want to apply\n",
    "    \"\"\"\n",
    "    \n",
    "    \n",
    "    if transformation == 'log':\n",
    "        df = np.log(df)\n",
    "        \n",
    "    elif transformation == 'square':\n",
    "        df = np.square(df)\n",
    "        \n",
    "    elif transformation == 'sqrt':\n",
    "        df = np.sqrt(df)\n"
   ]
  },
  {
   "cell_type": "code",
   "execution_count": 32,
   "metadata": {},
   "outputs": [],
   "source": [
    "# to check outliers using box plot\n",
    "\n",
    "def check_outliers(df, col, cat):\n",
    "    \"\"\"Check outliers through boxplot.\n",
    "    \n",
    "    This function plots and displays the boxplot of the feature col vs all the categories defined. \n",
    "    Check for any outlier present.\n",
    "        \n",
    "    Keyword arguments:\n",
    "    df -- pandas dataframe which has the data\n",
    "    col -- the feature for which we want to plot the boxplot\n",
    "    cat -- the list of features (categorical) by which we want to check the outliers (for each category in each feature)\n",
    "    \"\"\"\n",
    "    \n",
    "    if len(cat) == 0:\n",
    "        boxplot = df.boxplot(column=[col], rot = 90)\n",
    "    else:\n",
    "        for c in cat:\n",
    "            boxplot = df.boxplot(column=[col], by=[c], rot = 90)\n",
    "        \n",
    "\n"
   ]
  },
  {
   "cell_type": "code",
   "execution_count": 24,
   "metadata": {},
   "outputs": [],
   "source": [
    "# to fit the model & return the score\n",
    "\n",
    "def fit_model(X_train, X_test, y_train, y_test, model):\n",
    "    \"\"\"Fit the model & return the score of the fitted model.\n",
    "    \n",
    "    This function accepts the test & train data and fits the given model to it and returns the score of the model.\n",
    "    \n",
    "    Keyword arguments:\n",
    "    X_train -- Train feature\n",
    "    X_test -- Test/Validation feature\n",
    "    y_train -- Train target\n",
    "    y_test -- Tets/Validation target\n",
    "    model -- the model to be fitted\n",
    "    \n",
    "    Returns:\n",
    "    r2 -- R-Square of the fitted model    \n",
    "    \"\"\"\n",
    "        \n",
    "    if model == 'LinearRegression':\n",
    "        \n",
    "        regressor=LinearRegression()\n",
    "        regressor.fit(X_train,y_train)\n",
    "        y_pred =regressor.predict(X_test)\n",
    "        r2 = r2_score(y_test, y_pred)\n",
    "        \n",
    "    elif model == 'Lasso':\n",
    "        \n",
    "        lasso = Lasso()\n",
    "        lasso.fit(X_train, y_train)\n",
    "        lasso_pred = lasso.predict(X_test)\n",
    "        r2 = r2_score(y_test, lasso_pred)\n",
    "\n",
    "    elif model == 'Ridge':\n",
    "        \n",
    "        ridge = Ridge()\n",
    "        ridge.fit(X_train, y_train)\n",
    "        ridge_pred = ridge.predict(X_test)\n",
    "        r2 = r2_score(y_test, ridge_pred)\n",
    "        \n",
    "    \n",
    "    else:\n",
    "        model = make_pipeline(PolynomialFeatures(2), LinearRegression())\n",
    "        model.fit(X_train, y_train)\n",
    "        y_pred = model.predict(X_test)\n",
    "        r2= r2_score(y_test,y_pred)\n",
    "\n",
    "\n",
    "    return r2\n",
    "\n"
   ]
  },
  {
   "cell_type": "markdown",
   "metadata": {},
   "source": [
    "### Read the dataset. Take a look at the dataset. \n",
    "\n",
    "* Check the data types present in the dataframe.\n",
    "* Call the num_and_cat_columns() with train as the parameter and store the results.\n",
    "* Are there any missing values? Are there any Outliers? How do you want to treat them?\n"
   ]
  },
  {
   "cell_type": "code",
   "execution_count": 25,
   "metadata": {},
   "outputs": [],
   "source": [
    "# Code starts here\n",
    "\n",
    "train = pd.read_csv('../data/train.csv')\n",
    "\n",
    "# Code ends here"
   ]
  },
  {
   "cell_type": "code",
   "execution_count": 26,
   "metadata": {},
   "outputs": [
    {
     "data": {
      "text/html": [
       "<div>\n",
       "<style scoped>\n",
       "    .dataframe tbody tr th:only-of-type {\n",
       "        vertical-align: middle;\n",
       "    }\n",
       "\n",
       "    .dataframe tbody tr th {\n",
       "        vertical-align: top;\n",
       "    }\n",
       "\n",
       "    .dataframe thead th {\n",
       "        text-align: right;\n",
       "    }\n",
       "</style>\n",
       "<table border=\"1\" class=\"dataframe\">\n",
       "  <thead>\n",
       "    <tr style=\"text-align: right;\">\n",
       "      <th></th>\n",
       "      <th>Id</th>\n",
       "      <th>Year Type</th>\n",
       "      <th>Year</th>\n",
       "      <th>Organization Group</th>\n",
       "      <th>Department</th>\n",
       "      <th>Union</th>\n",
       "      <th>Job Family</th>\n",
       "      <th>Job</th>\n",
       "      <th>Employee Identifier</th>\n",
       "      <th>Retirement</th>\n",
       "      <th>Health and Dental</th>\n",
       "      <th>Other Benefits</th>\n",
       "      <th>Total Compensation</th>\n",
       "    </tr>\n",
       "  </thead>\n",
       "  <tbody>\n",
       "    <tr>\n",
       "      <th>0</th>\n",
       "      <td>0</td>\n",
       "      <td>Calendar</td>\n",
       "      <td>2018</td>\n",
       "      <td>Community Health</td>\n",
       "      <td>NaN</td>\n",
       "      <td>Prof &amp; Tech Eng, Local 21</td>\n",
       "      <td>Information Systems</td>\n",
       "      <td>IS Business Analyst-Principal</td>\n",
       "      <td>8594384</td>\n",
       "      <td>$0.0</td>\n",
       "      <td>$13527.66</td>\n",
       "      <td>$0.0</td>\n",
       "      <td>0.00</td>\n",
       "    </tr>\n",
       "    <tr>\n",
       "      <th>1</th>\n",
       "      <td>1</td>\n",
       "      <td>Calendar</td>\n",
       "      <td>2014</td>\n",
       "      <td>Public Works, Transportation &amp; Commerce</td>\n",
       "      <td>MTA Municipal Transprtn Agncy</td>\n",
       "      <td>SEIU - Miscellaneous, Local 1021</td>\n",
       "      <td>Public Service Aide</td>\n",
       "      <td>Publ Svc Aide-Asst To Prof</td>\n",
       "      <td>22142</td>\n",
       "      <td>$0.0</td>\n",
       "      <td>$3995.56</td>\n",
       "      <td>$875.27</td>\n",
       "      <td>16176.35</td>\n",
       "    </tr>\n",
       "    <tr>\n",
       "      <th>2</th>\n",
       "      <td>2</td>\n",
       "      <td>Fiscal</td>\n",
       "      <td>2018</td>\n",
       "      <td>General City Responsibilities</td>\n",
       "      <td>NaN</td>\n",
       "      <td>SEIU, Local 1021, Misc</td>\n",
       "      <td>Payroll, Billing &amp; Accounting</td>\n",
       "      <td>Senior Account Clerk</td>\n",
       "      <td>8512172</td>\n",
       "      <td>$0.0</td>\n",
       "      <td>$0.0</td>\n",
       "      <td>$0.0</td>\n",
       "      <td>248.30</td>\n",
       "    </tr>\n",
       "    <tr>\n",
       "      <th>3</th>\n",
       "      <td>3</td>\n",
       "      <td>Fiscal</td>\n",
       "      <td>2015</td>\n",
       "      <td>Community Health</td>\n",
       "      <td>DPH Public Health</td>\n",
       "      <td>SEIU - Miscellaneous, Local 1021</td>\n",
       "      <td>Purchasing &amp; Storekeeping</td>\n",
       "      <td>Sr Materials &amp; Supplies Sprv</td>\n",
       "      <td>47593</td>\n",
       "      <td>$11671.59</td>\n",
       "      <td>$10680.55</td>\n",
       "      <td>$4400.24</td>\n",
       "      <td>80020.86</td>\n",
       "    </tr>\n",
       "    <tr>\n",
       "      <th>4</th>\n",
       "      <td>4</td>\n",
       "      <td>Fiscal</td>\n",
       "      <td>2014</td>\n",
       "      <td>Community Health</td>\n",
       "      <td>DPH Public Health</td>\n",
       "      <td>SEIU - Miscellaneous, Local 1021</td>\n",
       "      <td>Hospital Administration</td>\n",
       "      <td>Medical Records Technician</td>\n",
       "      <td>47549</td>\n",
       "      <td>$14617.66</td>\n",
       "      <td>$12464.61</td>\n",
       "      <td>$5562.09</td>\n",
       "      <td>101207.38</td>\n",
       "    </tr>\n",
       "  </tbody>\n",
       "</table>\n",
       "</div>"
      ],
      "text/plain": [
       "   Id Year Type  Year                       Organization Group  \\\n",
       "0   0  Calendar  2018                         Community Health   \n",
       "1   1  Calendar  2014  Public Works, Transportation & Commerce   \n",
       "2   2    Fiscal  2018            General City Responsibilities   \n",
       "3   3    Fiscal  2015                         Community Health   \n",
       "4   4    Fiscal  2014                         Community Health   \n",
       "\n",
       "                      Department                             Union  \\\n",
       "0                            NaN         Prof & Tech Eng, Local 21   \n",
       "1  MTA Municipal Transprtn Agncy  SEIU - Miscellaneous, Local 1021   \n",
       "2                            NaN            SEIU, Local 1021, Misc   \n",
       "3              DPH Public Health  SEIU - Miscellaneous, Local 1021   \n",
       "4              DPH Public Health  SEIU - Miscellaneous, Local 1021   \n",
       "\n",
       "                      Job Family                            Job  \\\n",
       "0            Information Systems  IS Business Analyst-Principal   \n",
       "1            Public Service Aide     Publ Svc Aide-Asst To Prof   \n",
       "2  Payroll, Billing & Accounting           Senior Account Clerk   \n",
       "3      Purchasing & Storekeeping   Sr Materials & Supplies Sprv   \n",
       "4        Hospital Administration     Medical Records Technician   \n",
       "\n",
       "   Employee Identifier Retirement Health and Dental Other Benefits  \\\n",
       "0              8594384       $0.0         $13527.66           $0.0   \n",
       "1                22142       $0.0          $3995.56        $875.27   \n",
       "2              8512172       $0.0              $0.0           $0.0   \n",
       "3                47593  $11671.59         $10680.55       $4400.24   \n",
       "4                47549  $14617.66         $12464.61       $5562.09   \n",
       "\n",
       "   Total Compensation  \n",
       "0                0.00  \n",
       "1            16176.35  \n",
       "2              248.30  \n",
       "3            80020.86  \n",
       "4           101207.38  "
      ]
     },
     "execution_count": 26,
     "metadata": {},
     "output_type": "execute_result"
    }
   ],
   "source": [
    "train.head()"
   ]
  },
  {
   "cell_type": "code",
   "execution_count": 27,
   "metadata": {},
   "outputs": [],
   "source": [
    "#Split the data into X and Y\n",
    "X = train.drop(columns = ['Total Compensation'])\n",
    "y = train[['Total Compensation']]"
   ]
  },
  {
   "cell_type": "code",
   "execution_count": 28,
   "metadata": {},
   "outputs": [
    {
     "name": "stdout",
     "output_type": "stream",
     "text": [
      "   Id Year Type  Year                       Organization Group  \\\n",
      "0   0  Calendar  2018                         Community Health   \n",
      "1   1  Calendar  2014  Public Works, Transportation & Commerce   \n",
      "2   2    Fiscal  2018            General City Responsibilities   \n",
      "3   3    Fiscal  2015                         Community Health   \n",
      "4   4    Fiscal  2014                         Community Health   \n",
      "\n",
      "                      Department                             Union  \\\n",
      "0                            NaN         Prof & Tech Eng, Local 21   \n",
      "1  MTA Municipal Transprtn Agncy  SEIU - Miscellaneous, Local 1021   \n",
      "2                            NaN            SEIU, Local 1021, Misc   \n",
      "3              DPH Public Health  SEIU - Miscellaneous, Local 1021   \n",
      "4              DPH Public Health  SEIU - Miscellaneous, Local 1021   \n",
      "\n",
      "                      Job Family                            Job  \\\n",
      "0            Information Systems  IS Business Analyst-Principal   \n",
      "1            Public Service Aide     Publ Svc Aide-Asst To Prof   \n",
      "2  Payroll, Billing & Accounting           Senior Account Clerk   \n",
      "3      Purchasing & Storekeeping   Sr Materials & Supplies Sprv   \n",
      "4        Hospital Administration     Medical Records Technician   \n",
      "\n",
      "   Employee Identifier Retirement Health and Dental Other Benefits  \n",
      "0              8594384       $0.0         $13527.66           $0.0  \n",
      "1                22142       $0.0          $3995.56        $875.27  \n",
      "2              8512172       $0.0              $0.0           $0.0  \n",
      "3                47593  $11671.59         $10680.55       $4400.24  \n",
      "4                47549  $14617.66         $12464.61       $5562.09  \n",
      "   Total Compensation\n",
      "0                0.00\n",
      "1            16176.35\n",
      "2              248.30\n",
      "3            80020.86\n",
      "4           101207.38\n"
     ]
    }
   ],
   "source": [
    "print(X.head())\n",
    "print(y.head())"
   ]
  },
  {
   "cell_type": "code",
   "execution_count": 29,
   "metadata": {},
   "outputs": [
    {
     "name": "stdout",
     "output_type": "stream",
     "text": [
      "['Id', 'Year', 'Employee Identifier'] 3\n",
      "['Year Type', 'Organization Group', 'Department', 'Union', 'Job Family', 'Job', 'Retirement', 'Health and Dental', 'Other Benefits'] 9\n"
     ]
    }
   ],
   "source": [
    "a, b = num_and_cat_columns(X)\n",
    "print(a,len(a))\n",
    "print(b, len(b))"
   ]
  },
  {
   "cell_type": "code",
   "execution_count": 33,
   "metadata": {},
   "outputs": [
    {
     "name": "stdout",
     "output_type": "stream",
     "text": [
      "Id                          0\n",
      "Year Type                   0\n",
      "Year                        0\n",
      "Organization Group          0\n",
      "Department             295065\n",
      "Union                     345\n",
      "Job Family                  0\n",
      "Job                         3\n",
      "Employee Identifier         0\n",
      "Retirement                  0\n",
      "Health and Dental           0\n",
      "Other Benefits              0\n",
      "dtype: int64\n"
     ]
    },
    {
     "data": {
      "image/png": "[encoded data removed]",
      "text/plain": [
       "<Figure size 432x288 with 1 Axes>"
      ]
     },
     "metadata": {
      "needs_background": "light"
     },
     "output_type": "display_data"
    }
   ],
   "source": [
    "print(X.isnull().sum())\n",
    "check_outliers(y, 'Total Compensation', [])"
   ]
  },
  {
   "cell_type": "code",
   "execution_count": 34,
   "metadata": {},
   "outputs": [],
   "source": [
    "X.drop(columns = ['Department'], inplace = True)"
   ]
  },
  {
   "cell_type": "markdown",
   "metadata": {},
   "source": [
    "### Visualize the data\n",
    "\n",
    "- Check for the categorical & continuous features. \n",
    "- Check out the best plots for plotting between categorical target and continuous features and try making some inferences from these plots.\n",
    "- Clean the data and apply some data preprocessing techniques"
   ]
  },
  {
   "cell_type": "code",
   "execution_count": 35,
   "metadata": {},
   "outputs": [],
   "source": [
    "# Have a look at the features, check the type where any currency is involved. \n",
    "# We have columns with compensations stored in form of strings. We need to clean it and convert this to numeric. \n",
    "# Call the clean_dollar() to do the same. Apply it to all train, val & test data.\n",
    "\n",
    "\n",
    "for c in ['Retirement', 'Health and Dental', 'Other Benefits']:\n",
    "    X = clean_dollar(X, c)\n",
    "    # X_test = clean_dollar(X_test, c)"
   ]
  },
  {
   "cell_type": "code",
   "execution_count": 37,
   "metadata": {},
   "outputs": [],
   "source": [
    "# Treat the null values by calling the treat_null_values()\n",
    "\n",
    "treat_null_values(X['Union'], 'mode')\n",
    "treat_null_values(X['Job'], 'mode')"
   ]
  },
  {
   "cell_type": "code",
   "execution_count": 38,
   "metadata": {},
   "outputs": [],
   "source": [
    "# Before we proceed with the model fitting, we need to get rid of the categorical columns.\n",
    "# We can use One Hot Encoding or Label Encoding to convert the categorical columns to numeric.\n",
    "# Call the encode_category() with the list of columns and the method of encoding to do the same.\n",
    "\n",
    "# Split the data into train and test\n",
    "X_train, X_test, y_train, y_test = train_test_split(X,y,random_state=0,test_size=0.2)\n",
    "X_train_ = X_train.copy()  # Create a copy of the train data to train the encoder\n",
    "\n",
    "\n",
    "for col in ['Union', 'Job Family', 'Job', 'Year Type', 'Organization Group']:\n",
    "    lb = LabelEncoder()\n",
    "    lb.fit(X_train_[col]) \n",
    "    X_test = encode_category(X_test, lb, col, 'label')\n",
    "    X_train = encode_category(X_train, lb, col, 'label')\n",
    "    "
   ]
  },
  {
   "cell_type": "code",
   "execution_count": 39,
   "metadata": {},
   "outputs": [
    {
     "name": "stdout",
     "output_type": "stream",
     "text": [
      "Numerical Columns: ['Id', 'Year Type', 'Year', 'Organization Group', 'Union', 'Job Family', 'Job', 'Employee Identifier', 'Retirement', 'Health and Dental', 'Other Benefits'] 11\n",
      "Categorical Columns: [] 0\n"
     ]
    }
   ],
   "source": [
    "# Now since we have encoded all the categorical columns, there shouldn't be any left in the data.\n",
    "# Check the same by calling num_and_cat_columns()\n",
    "\n",
    "\n",
    "a, b = num_and_cat_columns(X_train)\n",
    "print(\"Numerical Columns:\", a,len(a))\n",
    "print(\"Categorical Columns:\", b, len(b))"
   ]
  },
  {
   "cell_type": "markdown",
   "metadata": {},
   "source": [
    "### Model building\n",
    "\n",
    "- Separate the features and target.\n",
    "- Now let's come to the actual task, using linear regression, predict the `Total Compensation`. Use different techniques you have learned to imporove the performance of the model.\n",
    "- Try improving upon the `r2_score` (R-Square) using different parameters that give the best score. Call the `fit_model()` with respective parameters.\n",
    "\n"
   ]
  },
  {
   "cell_type": "code",
   "execution_count": 40,
   "metadata": {},
   "outputs": [
    {
     "name": "stdout",
     "output_type": "stream",
     "text": [
      "Linear Regression:  0.9419217309382463\n",
      "Lasso:  0.9419216828390473\n",
      "Ridge:  0.9419217307441711\n",
      "Pipeline:  0.9589115374521492\n"
     ]
    }
   ],
   "source": [
    "# Now let's come to the actual task, using linear regression to predict the Total Compensation. \n",
    "# We will check the model accuracy using `r^2 score`\n",
    "# Call the fit_model() with respective parameters.\n",
    "\n",
    "r2 = fit_model(X_train, X_test, y_train, y_test, 'LinearRegression')\n",
    "print (\"Linear Regression: \", r2)\n",
    "\n",
    "\n",
    "# # Check if the accuracy increases after using the Lasso Regularization technique.\n",
    "# # Call the fit_model() with respective parameters.\n",
    "r2 = fit_model(X_train, X_test, y_train, y_test, 'Lasso')\n",
    "print (\"Lasso: \", r2)\n",
    "\n",
    "\n",
    "# # Check if the accuracy increases after using the Ridge Regularization technique.\n",
    "# # Call the fit_model() with respective parameters.\n",
    "\n",
    "r2 = fit_model(X_train, X_test, y_train, y_test, 'Ridge')\n",
    "print (\"Ridge: \", r2)\n",
    "\n",
    "\n",
    "\n",
    "# Check if the accuracy increases after using the Polypipeline technique.\n",
    "r2 = fit_model(X_train, X_test, y_train, y_test, 'Pipeline')\n",
    "print (\"Pipeline: \", r2)\n",
    "\n",
    "# Which technique was the best? That is your final model.\n"
   ]
  },
  {
   "cell_type": "markdown",
   "metadata": {},
   "source": [
    "### Prediction on the test data and creating the sample submission file.\n",
    "\n",
    "- Load the test data and store the `Id` column in a separate variable.\n",
    "- Perform the same operations on the test data that you have performed on the train data.\n",
    "- Create the submission file as a `csv` file consisting of the `Id` column from the test data and your prediction as the second column."
   ]
  },
  {
   "cell_type": "code",
   "execution_count": 41,
   "metadata": {},
   "outputs": [
    {
     "data": {
      "text/plain": [
       "array([  8925.07560667, 123734.24844845,  88626.78441056, ...,\n",
       "        47238.80104928,  86095.52942094, 113595.80019006])"
      ]
     },
     "execution_count": 41,
     "metadata": {},
     "output_type": "execute_result"
    }
   ],
   "source": [
    "# Code Starts here\n",
    "# Prediction on test data\n",
    "\n",
    "# Read the test data\n",
    "test = pd.read_csv('..//Data//test.csv')\n",
    "\n",
    "# Storing the id from the test file\n",
    "id_ = test['Id']\n",
    "\n",
    "# Dropping the same columns from the test data and applying same transformation\n",
    "test.drop(columns = ['Department'], inplace = True)\n",
    "treat_null_values(test['Union'], 'mode')\n",
    "treat_null_values(test['Job'], 'mode')\n",
    "\n",
    "for c in ['Retirement', 'Health and Dental', 'Other Benefits']:\n",
    "    test = clean_dollar(test, c)\n",
    "    \n",
    "for col in ['Union', 'Job Family', 'Job', 'Year Type', 'Organization Group']:\n",
    "    lb = LabelEncoder()\n",
    "    lb.fit(X_train_[col])\n",
    "    test = encode_category(test, lb, col, 'label')\n",
    "    \n",
    "   \n",
    "# Applying pipeline on test data\n",
    "model = make_pipeline(PolynomialFeatures(2), LinearRegression())\n",
    "model.fit(X_train, y_train)\n",
    "\n",
    "\n",
    "# Predict on the test data\n",
    "y_pred_test = model.predict(test)\n",
    "y_pred_test = y_pred_test.flatten()\n",
    "y_pred_test\n",
    "# # Create a sample submission file\n",
    "# sample_submission = pd.DataFrame({'Id':id_,'Total Compensation':y_pred_test})\n",
    "\n",
    "# # Convert the sample submission file into a csv file\n",
    "# sample_submission.to_csv('sample_submission_test.csv',index=False)\n",
    "\n",
    "# Code ends here"
   ]
  },
  {
   "cell_type": "code",
   "execution_count": null,
   "metadata": {},
   "outputs": [],
   "source": []
  }
 ],
 "metadata": {
  "kernelspec": {
   "display_name": "Python 3 (ipykernel)",
   "language": "python",
   "name": "python3"
  },
  "language_info": {
   "codemirror_mode": {
    "name": "ipython",
    "version": 3
   },
   "file_extension": ".py",
   "mimetype": "text/x-python",
   "name": "python",
   "nbconvert_exporter": "python",
   "pygments_lexer": "ipython3",
   "version": "3.8.12"
  }
 },
 "nbformat": 4,
 "nbformat_minor": 2
}
